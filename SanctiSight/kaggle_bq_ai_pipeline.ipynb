{
 "cells": [
  {
   "cell_type": "markdown",
   "id": "e817a52b",
   "metadata": {
    "papermill": {
     "duration": 0.004021,
     "end_time": "2025-10-13T03:57:13.251270",
     "exception": false,
     "start_time": "2025-10-13T03:57:13.247249",
     "status": "completed"
    },
    "tags": []
   },
   "source": [
    "===============================================================\n",
    "Step 0: Setup and Authentication\n",
    "===============================================================\n",
    "We initialize both BigQuery and Vertex AI clients to interact with our data and AI services.\n",
    "- BigQuery client is used to query the news corpus and sanctions tables.\n",
    "- Vertex AI client is used for ML embeddings via BigQuery ML.\n",
    "The credentials JSON file is loaded to authenticate the session."
   ]
  },
  {
   "cell_type": "code",
   "execution_count": null,
   "id": "fe5643e6",
   "metadata": {
    "execution": {
     "iopub.execute_input": "2025-10-13T03:57:13.259192Z",
     "iopub.status.busy": "2025-10-13T03:57:13.258896Z",
     "iopub.status.idle": "2025-10-13T03:57:31.399050Z",
     "shell.execute_reply": "2025-10-13T03:57:31.397893Z"
    },
    "papermill": {
     "duration": 18.145626,
     "end_time": "2025-10-13T03:57:31.400388",
     "exception": true,
     "start_time": "2025-10-13T03:57:13.254762",
     "status": "failed"
    },
    "tags": []
   },
   "outputs": [],
   "source": [
    "from google.cloud import aiplatform\n",
    "from google.cloud import bigquery\n",
    "import pandas as pd\n",
    "import numpy as np\n",
    "from time import sleep\n",
    "import os\n",
    "import matplotlib.pyplot as plt"
   ]
  },
  {
   "cell_type": "markdown",
   "id": "90196b9a",
   "metadata": {
    "papermill": {
     "duration": null,
     "end_time": null,
     "exception": null,
     "start_time": null,
     "status": "pending"
    },
    "tags": []
   },
   "source": [
    "--------------------------------------------------------------\n",
    "Step 1: Set up BigQuery client\n",
    "--------------------------------------------------------------\n",
    "We initialize the BigQuery client with our project ID.\n",
    "This allows us to run queries against our BigQuery datasets, including the news corpus and sanctions tables we created."
   ]
  },
  {
   "cell_type": "code",
   "execution_count": null,
   "id": "0d43ae7a",
   "metadata": {
    "execution": {
     "iopub.execute_input": "2025-09-22T14:43:18.602678Z",
     "iopub.status.busy": "2025-09-22T14:43:18.602042Z",
     "iopub.status.idle": "2025-09-22T14:43:18.608072Z",
     "shell.execute_reply": "2025-09-22T14:43:18.607394Z",
     "shell.execute_reply.started": "2025-09-22T14:43:18.602653Z"
    },
    "papermill": {
     "duration": null,
     "end_time": null,
     "exception": null,
     "start_time": null,
     "status": "pending"
    },
    "tags": []
   },
   "outputs": [],
   "source": [
    "# Path to your uploaded JSON key\n",
    "os.environ[\"GOOGLE_APPLICATION_CREDENTIALS\"] = \"...\"\n",
    "\n",
    "# Initialize BigQuery client (dataset in US region)\n",
    "bq_client = bigquery.Client(project='kagglecov1', location='US')\n",
    "\n",
    "# Initialize Vertex AI client (supported US region)\n",
    "aiplatform.init(project='kagglecov1', location='us-central1')\n",
    "\n",
    "print(\"✅ Authentication successful\")\n"
   ]
  },
  {
   "cell_type": "code",
   "execution_count": null,
   "id": "e4444a80",
   "metadata": {
    "execution": {
     "iopub.execute_input": "2025-09-22T14:43:22.727444Z",
     "iopub.status.busy": "2025-09-22T14:43:22.727104Z",
     "iopub.status.idle": "2025-09-22T14:43:23.061031Z",
     "shell.execute_reply": "2025-09-22T14:43:23.060156Z",
     "shell.execute_reply.started": "2025-09-22T14:43:22.727417Z"
    },
    "papermill": {
     "duration": null,
     "end_time": null,
     "exception": null,
     "start_time": null,
     "status": "pending"
    },
    "tags": []
   },
   "outputs": [],
   "source": [
    "# List tables in your dataset to confirm access\n",
    "tables = list(bq_client.list_tables(\"Sanctions1\"))\n",
    "for table in tables:\n",
    "    print(table.table_id)\n"
   ]
  },
  {
   "cell_type": "markdown",
   "id": "2b6beabe",
   "metadata": {
    "papermill": {
     "duration": null,
     "end_time": null,
     "exception": null,
     "start_time": null,
     "status": "pending"
    },
    "tags": []
   },
   "source": [
    "===============================================================\n",
    "Step 2: Pull Entity Matches from BigQuery\n",
    "===============================================================\n",
    "This query retrieves all entities extracted from news articles (GDELT) that have been matched against sanctioned entities. \n",
    "Columns explained:\n",
    "- entity_norm: normalized entity name from news\n",
    "- sanction_id: ID of the matching sanction record\n",
    "- sanction_name: name of the sanctioned entity\n",
    "- match_type: 'exact' or 'vector' (semantic match)\n",
    "- distance: semantic similarity (lower = more similar)"
   ]
  },
  {
   "cell_type": "code",
   "execution_count": null,
   "id": "1be09048",
   "metadata": {
    "execution": {
     "iopub.execute_input": "2025-09-22T13:13:22.398226Z",
     "iopub.status.busy": "2025-09-22T13:13:22.397936Z",
     "iopub.status.idle": "2025-09-22T14:01:33.219696Z",
     "shell.execute_reply": "2025-09-22T14:01:33.218643Z",
     "shell.execute_reply.started": "2025-09-22T13:13:22.398204Z"
    },
    "papermill": {
     "duration": null,
     "end_time": null,
     "exception": null,
     "start_time": null,
     "status": "pending"
    },
    "tags": []
   },
   "outputs": [],
   "source": [
    "# Replace with your GCP project ID\n",
    "project_id = \"kagglecov1\"\n",
    "\n",
    "# Create BigQuery client with project\n",
    "bq_client = bigquery.Client(project=project_id)\n",
    "\n",
    "# Pull all entity matches\n",
    "query = \"\"\"\n",
    "SELECT entity_norm, sanction_id, sanction_name, match_type, distance\n",
    "FROM `kagglecov1.Sanctions1.v_gkg_sanctions_hits`\n",
    "WHERE entity_norm IS NOT NULL\n",
    "\"\"\"\n",
    "matches_df = bq_client.query(query).to_dataframe()\n",
    "matches_df.head()"
   ]
  },
  {
   "cell_type": "markdown",
   "id": "645ddbb3",
   "metadata": {
    "papermill": {
     "duration": null,
     "end_time": null,
     "exception": null,
     "start_time": null,
     "status": "pending"
    },
    "tags": []
   },
   "source": [
    "===============================================================\n",
    "Step 3: Aggregate Maximum Risk per Entity\n",
    "===============================================================\n",
    "Groups by entity to determine the highest risk score observed for each entity.\n",
    "This ensures each entity is represented by its most critical exposure."
   ]
  },
  {
   "cell_type": "code",
   "execution_count": null,
   "id": "0868f6f8",
   "metadata": {
    "execution": {
     "iopub.execute_input": "2025-09-22T14:28:42.710760Z",
     "iopub.status.busy": "2025-09-22T14:28:42.709963Z",
     "iopub.status.idle": "2025-09-22T14:28:43.261565Z",
     "shell.execute_reply": "2025-09-22T14:28:43.260687Z",
     "shell.execute_reply.started": "2025-09-22T14:28:42.710723Z"
    },
    "papermill": {
     "duration": null,
     "end_time": null,
     "exception": null,
     "start_time": null,
     "status": "pending"
    },
    "tags": []
   },
   "outputs": [],
   "source": [
    "# Risk scoring logic\n",
    "matches_df['risk_score'] = matches_df.apply(\n",
    "    lambda row: 1.0 if row['match_type']=='exact' else 1 - row['distance'], axis=1\n",
    ")\n",
    "\n",
    "# Aggregate max risk per entity\n",
    "risk_df = matches_df.groupby('entity_norm')['risk_score'].max().reset_index()\n",
    "\n",
    "# Top risky entities\n",
    "risk_df = risk_df.sort_values('risk_score', ascending=False)\n",
    "risk_df.head(10)"
   ]
  },
  {
   "cell_type": "markdown",
   "id": "92fd8590",
   "metadata": {
    "papermill": {
     "duration": null,
     "end_time": null,
     "exception": null,
     "start_time": null,
     "status": "pending"
    },
    "tags": []
   },
   "source": [
    "===============================================================\n",
    "Step 4: Inspect Top Risky Entities\n",
    "===============================================================\n",
    "Filters the original matches to only include the top 10 risky entities.\n",
    "This shows each match's type, similarity distance, and calculated risk score."
   ]
  },
  {
   "cell_type": "code",
   "execution_count": null,
   "id": "85d214d9",
   "metadata": {
    "execution": {
     "iopub.execute_input": "2025-09-22T14:43:30.435929Z",
     "iopub.status.busy": "2025-09-22T14:43:30.435255Z",
     "iopub.status.idle": "2025-09-22T14:43:30.455081Z",
     "shell.execute_reply": "2025-09-22T14:43:30.454413Z",
     "shell.execute_reply.started": "2025-09-22T14:43:30.435898Z"
    },
    "papermill": {
     "duration": null,
     "end_time": null,
     "exception": null,
     "start_time": null,
     "status": "pending"
    },
    "tags": []
   },
   "outputs": [],
   "source": [
    "top_risky = matches_df[matches_df['entity_norm'].isin(risk_df.head(10)['entity_norm'])]\n",
    "top_risky[['entity_norm','match_type','distance','risk_score']]"
   ]
  },
  {
   "cell_type": "markdown",
   "id": "bee95111",
   "metadata": {
    "papermill": {
     "duration": null,
     "end_time": null,
     "exception": null,
     "start_time": null,
     "status": "pending"
    },
    "tags": []
   },
   "source": [
    "===============================================================\n",
    "Step 5: Function to Query Risk for a Specific Entity\n",
    "===============================================================\n",
    "get_entity_risk function takes any entity name and returns its maximum risk score.\n",
    "Handles both exact matches and semantic vector matches."
   ]
  },
  {
   "cell_type": "code",
   "execution_count": null,
   "id": "08fef54a",
   "metadata": {
    "execution": {
     "iopub.execute_input": "2025-09-22T14:46:14.744193Z",
     "iopub.status.busy": "2025-09-22T14:46:14.743903Z",
     "iopub.status.idle": "2025-09-22T14:46:18.308445Z",
     "shell.execute_reply": "2025-09-22T14:46:18.307700Z",
     "shell.execute_reply.started": "2025-09-22T14:46:14.744169Z"
    },
    "papermill": {
     "duration": null,
     "end_time": null,
     "exception": null,
     "start_time": null,
     "status": "pending"
    },
    "tags": []
   },
   "outputs": [],
   "source": [
    "def get_entity_risk(entity_name, df):\n",
    "    entity_name_norm = entity_name.lower().strip()\n",
    "    \n",
    "    rows = df[df['entity_norm'] == entity_name_norm]\n",
    "    \n",
    "    if rows.empty:\n",
    "        return 0.0  \n",
    "    \n",
    "    risk_scores = []\n",
    "    for _, row in rows.iterrows():\n",
    "        if row['match_type'] == 'exact':\n",
    "            risk_scores.append(1.0)\n",
    "        elif row['match_type'] == 'vector':\n",
    "            risk_scores.append(max(0.0, 1 - row['distance']))\n",
    "    \n",
    "    return max(risk_scores)\n",
    "\n",
    "# Example usage\n",
    "entity_risk_score = get_entity_risk('Vladimir Putin', matches_df)\n",
    "print(f\"Risk score for Vladimir Putin: {entity_risk_score}\")"
   ]
  }
 ],
 "metadata": {
  "kaggle": {
   "accelerator": "none",
   "dataSources": [
    {
     "datasetId": 8291600,
     "sourceId": 13090526,
     "sourceType": "datasetVersion"
    }
   ],
   "dockerImageVersionId": 31089,
   "isGpuEnabled": false,
   "isInternetEnabled": true,
   "language": "python",
   "sourceType": "notebook"
  },
  "kernelspec": {
   "display_name": "Python 3",
   "language": "python",
   "name": "python3"
  },
  "language_info": {
   "codemirror_mode": {
    "name": "ipython",
    "version": 3
   },
   "file_extension": ".py",
   "mimetype": "text/x-python",
   "name": "python",
   "nbconvert_exporter": "python",
   "pygments_lexer": "ipython3",
   "version": "3.11.4"
  },
  "papermill": {
   "default_parameters": {},
   "duration": 26.438806,
   "end_time": "2025-10-13T03:57:34.899982",
   "environment_variables": {},
   "exception": true,
   "input_path": "__notebook__.ipynb",
   "output_path": "__notebook__.ipynb",
   "parameters": {},
   "start_time": "2025-10-13T03:57:08.461176",
   "version": "2.6.0"
  }
 },
 "nbformat": 4,
 "nbformat_minor": 5
}
